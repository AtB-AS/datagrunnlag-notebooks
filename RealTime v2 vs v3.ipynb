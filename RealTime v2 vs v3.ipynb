{
 "cells": [
  {
   "cell_type": "code",
   "execution_count": 2,
   "id": "56b2c0a5",
   "metadata": {
    "scrolled": true
   },
   "outputs": [
    {
     "data": {
      "text/plain": [
       "{'data': {'quays': [{'id': 'NSR:Quay:103009',\n",
       "    'estimatedCalls': [{'aimedArrivalTime': '2021-08-30T13:32:00+02:00',\n",
       "      'realtime': True,\n",
       "      'realtimeState': 'updated',\n",
       "      'serviceJourney': {'line': {'name': 'Dragvoll-Øya/Marienborg'},\n",
       "       'id': 'ATB:ServiceJourney:12_210413140732659_88',\n",
       "       'privateCode': '88'},\n",
       "      'expectedArrivalTime': '2021-08-30T13:32:23+02:00'},\n",
       "     {'aimedArrivalTime': '2021-08-30T13:34:00+02:00',\n",
       "      'realtime': True,\n",
       "      'realtimeState': 'updated',\n",
       "      'serviceJourney': {'line': {'name': 'Sæterbakken- Strindheim- Sentrum- Ratesvingen'},\n",
       "       'id': 'ATB:ServiceJourney:10_210408137895278_62',\n",
       "       'privateCode': '62'},\n",
       "      'expectedArrivalTime': '2021-08-30T13:35:43+02:00'},\n",
       "     {'aimedArrivalTime': '2021-08-30T13:36:00+02:00',\n",
       "      'realtime': True,\n",
       "      'realtimeState': 'updated',\n",
       "      'serviceJourney': {'line': {'name': 'Ranheim - Strindheim - sentrum - Tiller - Heimdal - Kattem'},\n",
       "       'id': 'ATB:ServiceJourney:1_210107096210769_112',\n",
       "       'privateCode': '112'},\n",
       "      'expectedArrivalTime': '2021-08-30T13:35:48+02:00'},\n",
       "     {'aimedArrivalTime': '2021-08-30T13:41:00+02:00',\n",
       "      'realtime': True,\n",
       "      'realtimeState': 'updated',\n",
       "      'serviceJourney': {'line': {'name': 'Strindheim- Lade- sentrum- Sau'},\n",
       "       'id': 'ATB:ServiceJourney:2_210107096211294_102',\n",
       "       'privateCode': '102'},\n",
       "      'expectedArrivalTime': '2021-08-30T13:40:09+02:00'},\n",
       "     {'aimedArrivalTime': '2021-08-30T13:42:00+02:00',\n",
       "      'realtime': True,\n",
       "      'realtimeState': 'updated',\n",
       "      'serviceJourney': {'line': {'name': 'Vestlia- Othilienborg- Sentrum'},\n",
       "       'id': 'ATB:ServiceJourney:22_210107096214967_117',\n",
       "       'privateCode': '117'},\n",
       "      'expectedArrivalTime': '2021-08-30T13:41:38+02:00'},\n",
       "     {'aimedArrivalTime': '2021-08-30T13:42:00+02:00',\n",
       "      'realtime': True,\n",
       "      'realtimeState': 'updated',\n",
       "      'serviceJourney': {'line': {'name': 'Dragvoll-Øya/Marienborg'},\n",
       "       'id': 'ATB:ServiceJourney:12_210413140732676_90',\n",
       "       'privateCode': '90'},\n",
       "      'expectedArrivalTime': '2021-08-30T13:44:41+02:00'},\n",
       "     {'aimedArrivalTime': '2021-08-30T13:46:00+02:00',\n",
       "      'realtime': True,\n",
       "      'realtimeState': 'updated',\n",
       "      'serviceJourney': {'line': {'name': 'Ranheim - Strindheim - sentrum - Tiller - Heimdal - Kattem'},\n",
       "       'id': 'ATB:ServiceJourney:1_210107096210770_114',\n",
       "       'privateCode': '114'},\n",
       "      'expectedArrivalTime': '2021-08-30T13:45:46+02:00'}],\n",
       "    'name': 'Buran'}]}}"
      ]
     },
     "execution_count": 2,
     "metadata": {},
     "output_type": "execute_result"
    }
   ],
   "source": [
    "from python_graphql_client import GraphqlClient\n",
    "import datetime\n",
    "\n",
    "# Instantiate the client with an endpoint.\n",
    "clientv2 = GraphqlClient(endpoint=\"https://api.entur.io/journey-planner/v2/graphql\")\n",
    "clientv3 = GraphqlClient(endpoint=\"https://api.entur.io/journey-planner/v3/graphql\")\n",
    "\n",
    "#timestamp = \"2021-08-25T15:52:43.785+02:00\"\n",
    "timestamp = datetime.datetime.now().astimezone().isoformat()\n",
    "\n",
    "# Create the query string and variables required for the request.\n",
    "query = \"\"\"\n",
    "query ($ids: [String], $timestamp: DateTime) {\n",
    "  quays(ids: $ids) {\n",
    "    id\n",
    "    estimatedCalls(\n",
    "      omitNonBoarding: false\n",
    "      includeCancelledTrips: false\n",
    "      numberOfDepartures: 20\n",
    "      startTime: $timestamp\n",
    "      timeRange: 10000\n",
    "    ) {\n",
    "      aimedArrivalTime\n",
    "      realtime\n",
    "      realtimeState\n",
    "      serviceJourney {\n",
    "        line {\n",
    "          name\n",
    "        }\n",
    "        id\n",
    "        privateCode\n",
    "      }\n",
    "      aimedArrivalTime\n",
    "      expectedArrivalTime\n",
    "    }\n",
    "    name\n",
    "  }\n",
    "}\n",
    "\n",
    "\"\"\"\n",
    "\n",
    "\n",
    "variables = {\n",
    "    \"ids\": \"NSR:Quay:103009\",\n",
    "    \"timestamp\": timestamp,\n",
    "}\n",
    "\n",
    "datav2 = clientv2.execute(query=query, variables=variables)\n",
    "datav3 = clientv3.execute(query=query, variables=variables)\n",
    "\n",
    "datav3"
   ]
  },
  {
   "cell_type": "code",
   "execution_count": null,
   "id": "cbb1c515",
   "metadata": {},
   "outputs": [],
   "source": []
  },
  {
   "cell_type": "code",
   "execution_count": null,
   "id": "a8a04168",
   "metadata": {},
   "outputs": [],
   "source": []
  },
  {
   "cell_type": "code",
   "execution_count": null,
   "id": "c129a8c6",
   "metadata": {},
   "outputs": [],
   "source": []
  },
  {
   "cell_type": "code",
   "execution_count": 3,
   "id": "f77bfcb6",
   "metadata": {},
   "outputs": [
    {
     "name": "stdout",
     "output_type": "stream",
     "text": [
      "2021-08-30T13:32:23+0200\n",
      "2021-08-30T13:35:43+0200\n",
      "2021-08-30T13:35:48+0200\n",
      "2021-08-30T13:40:09+0200\n",
      "2021-08-30T13:41:38+0200\n",
      "2021-08-30T13:44:41+0200\n",
      "2021-08-30T13:45:46+0200\n",
      "---\n",
      "2021-08-30T13:32:23+02:00\n",
      "2021-08-30T13:35:43+02:00\n",
      "2021-08-30T13:35:48+02:00\n",
      "2021-08-30T13:40:09+02:00\n",
      "2021-08-30T13:41:38+02:00\n",
      "2021-08-30T13:44:41+02:00\n",
      "2021-08-30T13:45:46+02:00\n"
     ]
    }
   ],
   "source": [
    "for call in datav2['data']['quays'][0]['estimatedCalls']:\n",
    "    print(call['expectedArrivalTime'])\n",
    "    \n",
    "print(\"---\")\n",
    "for call in datav3['data']['quays'][0]['estimatedCalls']:\n",
    "    print(call['expectedArrivalTime'])\n",
    "    "
   ]
  },
  {
   "cell_type": "code",
   "execution_count": null,
   "id": "32eece2c",
   "metadata": {},
   "outputs": [],
   "source": []
  },
  {
   "cell_type": "code",
   "execution_count": null,
   "id": "2084aa77",
   "metadata": {},
   "outputs": [],
   "source": []
  }
 ],
 "metadata": {
  "kernelspec": {
   "display_name": "Python 3 (ipykernel)",
   "language": "python",
   "name": "python3"
  },
  "language_info": {
   "codemirror_mode": {
    "name": "ipython",
    "version": 3
   },
   "file_extension": ".py",
   "mimetype": "text/x-python",
   "name": "python",
   "nbconvert_exporter": "python",
   "pygments_lexer": "ipython3",
   "version": "3.9.5"
  }
 },
 "nbformat": 4,
 "nbformat_minor": 5
}
