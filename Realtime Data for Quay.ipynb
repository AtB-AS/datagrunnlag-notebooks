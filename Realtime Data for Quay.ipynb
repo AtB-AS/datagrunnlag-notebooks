{
 "cells": [
  {
   "cell_type": "code",
   "execution_count": 9,
   "id": "50b48eb4",
   "metadata": {},
   "outputs": [
    {
     "data": {
      "text/plain": [
       "{'data': {'quay': {'estimatedCalls': [{'expectedArrivalTime': '2021-08-30T14:02:43+0200',\n",
       "     'aimedArrivalTime': '2021-08-30T14:02:00+0200',\n",
       "     'destinationDisplay': {'frontText': 'Vestlia via sentrum-Othilienborg'},\n",
       "     'serviceJourney': {'line': {'publicCode': '22'}}},\n",
       "    {'expectedArrivalTime': '2021-08-30T14:03:40+0200',\n",
       "     'aimedArrivalTime': '2021-08-30T14:02:00+0200',\n",
       "     'destinationDisplay': {'frontText': 'Marienborg via sentrum'},\n",
       "     'serviceJourney': {'line': {'publicCode': '12'}}},\n",
       "    {'expectedArrivalTime': '2021-08-30T14:06:41+0200',\n",
       "     'aimedArrivalTime': '2021-08-30T14:06:00+0200',\n",
       "     'destinationDisplay': {'frontText': 'Kattem via sentrum-Tiller'},\n",
       "     'serviceJourney': {'line': {'publicCode': '1'}}},\n",
       "    {'expectedArrivalTime': '2021-08-30T14:10:35+0200',\n",
       "     'aimedArrivalTime': '2021-08-30T14:11:00+0200',\n",
       "     'destinationDisplay': {'frontText': 'Lund via Kolstad-Heimdal'},\n",
       "     'serviceJourney': {'line': {'publicCode': '2'}}},\n",
       "    {'expectedArrivalTime': '2021-08-30T14:14:16+0200',\n",
       "     'aimedArrivalTime': '2021-08-30T14:12:00+0200',\n",
       "     'destinationDisplay': {'frontText': 'Marienborg via sentrum'},\n",
       "     'serviceJourney': {'line': {'publicCode': '12'}}},\n",
       "    {'expectedArrivalTime': '2021-08-30T14:15:46+0200',\n",
       "     'aimedArrivalTime': '2021-08-30T14:16:00+0200',\n",
       "     'destinationDisplay': {'frontText': 'Kattem via sentrum-Tiller'},\n",
       "     'serviceJourney': {'line': {'publicCode': '1'}}},\n",
       "    {'expectedArrivalTime': '2021-08-30T14:18:43+0200',\n",
       "     'aimedArrivalTime': '2021-08-30T14:14:00+0200',\n",
       "     'destinationDisplay': {'frontText': 'Rate via sentrum'},\n",
       "     'serviceJourney': {'line': {'publicCode': '10'}}},\n",
       "    {'expectedArrivalTime': '2021-08-30T14:20:00+0200',\n",
       "     'aimedArrivalTime': '2021-08-30T14:20:00+0200',\n",
       "     'destinationDisplay': {'frontText': 'Tillerterminalen via sentrum'},\n",
       "     'serviceJourney': {'line': {'publicCode': '1'}}},\n",
       "    {'expectedArrivalTime': '2021-08-30T14:20:09+0200',\n",
       "     'aimedArrivalTime': '2021-08-30T14:21:00+0200',\n",
       "     'destinationDisplay': {'frontText': 'Lund via Kolstad-Heimdal'},\n",
       "     'serviceJourney': {'line': {'publicCode': '2'}}},\n",
       "    {'expectedArrivalTime': '2021-08-30T14:21:35+0200',\n",
       "     'aimedArrivalTime': '2021-08-30T14:22:00+0200',\n",
       "     'destinationDisplay': {'frontText': 'Vestlia via sentrum-Othilienborg'},\n",
       "     'serviceJourney': {'line': {'publicCode': '22'}}},\n",
       "    {'expectedArrivalTime': '2021-08-30T14:21:46+0200',\n",
       "     'aimedArrivalTime': '2021-08-30T14:20:00+0200',\n",
       "     'destinationDisplay': {'frontText': 'Pirbadet'},\n",
       "     'serviceJourney': {'line': {'publicCode': '28'}}},\n",
       "    {'expectedArrivalTime': '2021-08-30T14:22:28+0200',\n",
       "     'aimedArrivalTime': '2021-08-30T14:18:00+0200',\n",
       "     'destinationDisplay': {'frontText': 'Romolslia via Tempevegen'},\n",
       "     'serviceJourney': {'line': {'publicCode': '20'}}},\n",
       "    {'expectedArrivalTime': '2021-08-30T14:24:11+0200',\n",
       "     'aimedArrivalTime': '2021-08-30T14:22:00+0200',\n",
       "     'destinationDisplay': {'frontText': 'Marienborg via sentrum'},\n",
       "     'serviceJourney': {'line': {'publicCode': '12'}}},\n",
       "    {'expectedArrivalTime': '2021-08-30T14:25:00+0200',\n",
       "     'aimedArrivalTime': '2021-08-30T14:25:00+0200',\n",
       "     'destinationDisplay': {'frontText': 'Ratesvingen via sentrum'},\n",
       "     'serviceJourney': {'line': {'publicCode': '10'}}},\n",
       "    {'expectedArrivalTime': '2021-08-30T14:25:46+0200',\n",
       "     'aimedArrivalTime': '2021-08-30T14:26:00+0200',\n",
       "     'destinationDisplay': {'frontText': 'Kattem via sentrum-Tiller'},\n",
       "     'serviceJourney': {'line': {'publicCode': '1'}}},\n",
       "    {'expectedArrivalTime': '2021-08-30T14:30:00+0200',\n",
       "     'aimedArrivalTime': '2021-08-30T14:30:00+0200',\n",
       "     'destinationDisplay': {'frontText': 'Tillerterminalen via sentrum'},\n",
       "     'serviceJourney': {'line': {'publicCode': '1'}}},\n",
       "    {'expectedArrivalTime': '2021-08-30T14:30:09+0200',\n",
       "     'aimedArrivalTime': '2021-08-30T14:31:00+0200',\n",
       "     'destinationDisplay': {'frontText': 'Lund via Kolstad-Heimdal'},\n",
       "     'serviceJourney': {'line': {'publicCode': '2'}}},\n",
       "    {'expectedArrivalTime': '2021-08-30T14:32:00+0200',\n",
       "     'aimedArrivalTime': '2021-08-30T14:32:00+0200',\n",
       "     'destinationDisplay': {'frontText': 'Vestlia via sentrum-Othilienborg'},\n",
       "     'serviceJourney': {'line': {'publicCode': '22'}}},\n",
       "    {'expectedArrivalTime': '2021-08-30T14:32:00+0200',\n",
       "     'aimedArrivalTime': '2021-08-30T14:32:00+0200',\n",
       "     'destinationDisplay': {'frontText': 'Øya via sentrum'},\n",
       "     'serviceJourney': {'line': {'publicCode': '12'}}},\n",
       "    {'expectedArrivalTime': '2021-08-30T14:33:00+0200',\n",
       "     'aimedArrivalTime': '2021-08-30T14:33:00+0200',\n",
       "     'destinationDisplay': {'frontText': 'Romolslia via Tempevegen'},\n",
       "     'serviceJourney': {'line': {'publicCode': '20'}}}]}}}"
      ]
     },
     "execution_count": 9,
     "metadata": {},
     "output_type": "execute_result"
    }
   ],
   "source": [
    "from python_graphql_client import GraphqlClient\n",
    "import datetime\n",
    "import pandas\n",
    "\n",
    "# Instantiate the client with an endpoint.\n",
    "clientv2 = GraphqlClient(endpoint=\"https://api.entur.io/journey-planner/v2/graphql\")\n",
    "#clientv3 = GraphqlClient(endpoint=\"https://api.entur.io/journey-planner/v3/graphql\")\n",
    "\n",
    "timestamp = \"2021-08-30T14:10:00+02:00\"\n",
    "#timestamp = datetime.datetime.now().astimezone().isoformat()\n",
    "\n",
    "# Create the query string and variables required for the request.\n",
    "query = \"\"\"\n",
    "query ($id: String!, $timestamp: DateTime) {\n",
    "  quay(id: $id) {\n",
    "    estimatedCalls(numberOfDepartures: 20) {\n",
    "      expectedArrivalTime\n",
    "      aimedArrivalTime\n",
    "      destinationDisplay {\n",
    "        frontText\n",
    "      }\n",
    "      serviceJourney {\n",
    "        line {\n",
    "          publicCode\n",
    "        }\n",
    "      }\n",
    "    }\n",
    "  }\n",
    "}\n",
    "\n",
    "\n",
    "\"\"\"\n",
    "\n",
    "# 103009 = Buran\n",
    "variables = {\n",
    "    \"id\": \"NSR:Quay:103009\",\n",
    "    \"timestamp\": timestamp,\n",
    "}\n",
    "\n",
    "datav2 = clientv2.execute(query=query, variables=variables)\n",
    "# datav3 = clientv3.execute(query=query, variables=variables)\n",
    "\n",
    "datav2\n"
   ]
  },
  {
   "cell_type": "code",
   "execution_count": 33,
   "id": "2cf15186",
   "metadata": {},
   "outputs": [
    {
     "data": {
      "text/plain": [
       "[['22', 'Vestlia via sentrum-Othilienborg', '14:02:43'],\n",
       " ['12', 'Marienborg via sentrum', '14:03:40'],\n",
       " ['1', 'Kattem via sentrum-Tiller', '14:06:41'],\n",
       " ['2', 'Lund via Kolstad-Heimdal', '14:10:35'],\n",
       " ['12', 'Marienborg via sentrum', '14:14:16'],\n",
       " ['1', 'Kattem via sentrum-Tiller', '14:15:46'],\n",
       " ['10', 'Rate via sentrum', '14:18:43'],\n",
       " ['1', 'Tillerterminalen via sentrum', '14:20:00'],\n",
       " ['2', 'Lund via Kolstad-Heimdal', '14:20:09'],\n",
       " ['22', 'Vestlia via sentrum-Othilienborg', '14:21:35'],\n",
       " ['28', 'Pirbadet', '14:21:46'],\n",
       " ['20', 'Romolslia via Tempevegen', '14:22:28'],\n",
       " ['12', 'Marienborg via sentrum', '14:24:11'],\n",
       " ['10', 'Ratesvingen via sentrum', '14:25:00'],\n",
       " ['1', 'Kattem via sentrum-Tiller', '14:25:46'],\n",
       " ['1', 'Tillerterminalen via sentrum', '14:30:00'],\n",
       " ['2', 'Lund via Kolstad-Heimdal', '14:30:09'],\n",
       " ['22', 'Vestlia via sentrum-Othilienborg', '14:32:00'],\n",
       " ['12', 'Øya via sentrum', '14:32:00'],\n",
       " ['20', 'Romolslia via Tempevegen', '14:33:00']]"
      ]
     },
     "execution_count": 33,
     "metadata": {},
     "output_type": "execute_result"
    }
   ],
   "source": [
    "calls = datav2['data']['quay']['estimatedCalls']\n",
    "\n",
    "output = []\n",
    "\n",
    "for arrival in calls:\n",
    "    expectedTime = arrival['expectedArrivalTime'].split('T')[1].split('+')[0]\n",
    "    lineNr = arrival['serviceJourney']['line']['publicCode']\n",
    "    lineName = arrival['destinationDisplay']['frontText']\n",
    "    output.append([lineNr, lineName, expectedTime])\n",
    "    \n",
    "output\n",
    "    "
   ]
  },
  {
   "cell_type": "code",
   "execution_count": null,
   "id": "c8653fc8",
   "metadata": {},
   "outputs": [],
   "source": []
  },
  {
   "cell_type": "code",
   "execution_count": null,
   "id": "d4ca81cd",
   "metadata": {},
   "outputs": [],
   "source": []
  },
  {
   "cell_type": "code",
   "execution_count": null,
   "id": "7ffa97b3",
   "metadata": {},
   "outputs": [],
   "source": []
  },
  {
   "cell_type": "code",
   "execution_count": null,
   "id": "e2eb4e28",
   "metadata": {},
   "outputs": [],
   "source": []
  },
  {
   "cell_type": "code",
   "execution_count": null,
   "id": "72397f98",
   "metadata": {},
   "outputs": [],
   "source": []
  },
  {
   "cell_type": "code",
   "execution_count": null,
   "id": "3083ee7f",
   "metadata": {},
   "outputs": [],
   "source": []
  },
  {
   "cell_type": "code",
   "execution_count": null,
   "id": "6810207c",
   "metadata": {},
   "outputs": [],
   "source": []
  },
  {
   "cell_type": "code",
   "execution_count": null,
   "id": "78c087b1",
   "metadata": {},
   "outputs": [],
   "source": []
  },
  {
   "cell_type": "code",
   "execution_count": null,
   "id": "93a2b937",
   "metadata": {},
   "outputs": [],
   "source": []
  },
  {
   "cell_type": "code",
   "execution_count": null,
   "id": "4ec44a24",
   "metadata": {},
   "outputs": [],
   "source": []
  },
  {
   "cell_type": "code",
   "execution_count": null,
   "id": "950febc2",
   "metadata": {},
   "outputs": [],
   "source": []
  },
  {
   "cell_type": "code",
   "execution_count": null,
   "id": "e17bebff",
   "metadata": {},
   "outputs": [],
   "source": []
  },
  {
   "cell_type": "code",
   "execution_count": null,
   "id": "5fc15067",
   "metadata": {},
   "outputs": [],
   "source": []
  },
  {
   "cell_type": "code",
   "execution_count": null,
   "id": "52bc8751",
   "metadata": {},
   "outputs": [],
   "source": []
  },
  {
   "cell_type": "code",
   "execution_count": null,
   "id": "7c904f3a",
   "metadata": {},
   "outputs": [],
   "source": []
  },
  {
   "cell_type": "code",
   "execution_count": null,
   "id": "afe32bdc",
   "metadata": {},
   "outputs": [],
   "source": []
  },
  {
   "cell_type": "code",
   "execution_count": null,
   "id": "c32209a1",
   "metadata": {},
   "outputs": [],
   "source": []
  },
  {
   "cell_type": "code",
   "execution_count": null,
   "id": "ea3ed7d1",
   "metadata": {},
   "outputs": [],
   "source": []
  },
  {
   "cell_type": "code",
   "execution_count": null,
   "id": "4043c58b",
   "metadata": {},
   "outputs": [],
   "source": []
  },
  {
   "cell_type": "code",
   "execution_count": null,
   "id": "ded32959",
   "metadata": {},
   "outputs": [],
   "source": []
  },
  {
   "cell_type": "code",
   "execution_count": null,
   "id": "8c83f424",
   "metadata": {},
   "outputs": [],
   "source": []
  },
  {
   "cell_type": "code",
   "execution_count": null,
   "id": "14608418",
   "metadata": {},
   "outputs": [],
   "source": []
  },
  {
   "cell_type": "code",
   "execution_count": null,
   "id": "3a86a8f0",
   "metadata": {},
   "outputs": [],
   "source": []
  },
  {
   "cell_type": "code",
   "execution_count": null,
   "id": "44677da2",
   "metadata": {},
   "outputs": [],
   "source": []
  },
  {
   "cell_type": "code",
   "execution_count": null,
   "id": "b7f5dabd",
   "metadata": {},
   "outputs": [],
   "source": []
  },
  {
   "cell_type": "code",
   "execution_count": null,
   "id": "1193f2fe",
   "metadata": {},
   "outputs": [],
   "source": []
  },
  {
   "cell_type": "code",
   "execution_count": null,
   "id": "02846fd0",
   "metadata": {},
   "outputs": [],
   "source": []
  },
  {
   "cell_type": "code",
   "execution_count": null,
   "id": "d0a0d6af",
   "metadata": {},
   "outputs": [],
   "source": []
  },
  {
   "cell_type": "code",
   "execution_count": null,
   "id": "57161bed",
   "metadata": {},
   "outputs": [],
   "source": []
  },
  {
   "cell_type": "code",
   "execution_count": null,
   "id": "a79dc016",
   "metadata": {},
   "outputs": [],
   "source": []
  },
  {
   "cell_type": "code",
   "execution_count": null,
   "id": "b892cc06",
   "metadata": {},
   "outputs": [],
   "source": []
  },
  {
   "cell_type": "code",
   "execution_count": null,
   "id": "e7c5489e",
   "metadata": {},
   "outputs": [],
   "source": []
  }
 ],
 "metadata": {
  "kernelspec": {
   "display_name": "Python 3 (ipykernel)",
   "language": "python",
   "name": "python3"
  },
  "language_info": {
   "codemirror_mode": {
    "name": "ipython",
    "version": 3
   },
   "file_extension": ".py",
   "mimetype": "text/x-python",
   "name": "python",
   "nbconvert_exporter": "python",
   "pygments_lexer": "ipython3",
   "version": "3.9.5"
  }
 },
 "nbformat": 4,
 "nbformat_minor": 5
}
